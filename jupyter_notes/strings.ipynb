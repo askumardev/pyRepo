{
 "cells": [
  {
   "cell_type": "code",
   "execution_count": 9,
   "metadata": {},
   "outputs": [
    {
     "name": "stdout",
     "output_type": "stream",
     "text": [
      "world\n",
      "hello world\n",
      "This is Ram's book\n"
     ]
    }
   ],
   "source": [
    "a = 'hello '\n",
    "b = \"world\"\n",
    "# c = 'This is Ram's book' SyntaxError: unterminated string literal (detected at line 3)\n",
    "c = \"This is Ram's book\"\n",
    "print(b)\n",
    "print(a+b)\n",
    "print(c)\n",
    "print(len(c))"
   ]
  }
 ],
 "metadata": {
  "kernelspec": {
   "display_name": "Python 3",
   "language": "python",
   "name": "python3"
  },
  "language_info": {
   "codemirror_mode": {
    "name": "ipython",
    "version": 3
   },
   "file_extension": ".py",
   "mimetype": "text/x-python",
   "name": "python",
   "nbconvert_exporter": "python",
   "pygments_lexer": "ipython3",
   "version": "3.12.3"
  }
 },
 "nbformat": 4,
 "nbformat_minor": 2
}
