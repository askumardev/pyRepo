{
 "cells": [
  {
   "cell_type": "code",
   "execution_count": 9,
   "metadata": {},
   "outputs": [
    {
     "name": "stdout",
     "output_type": "stream",
     "text": [
      "world\n",
      "hello world\n",
      "This is Ram's book\n"
     ]
    }
   ],
   "source": [
    "a = 'hello '\n",
    "b = \"world\"\n",
    "# c = 'This is Ram's book' SyntaxError: unterminated string literal (detected at line 3)\n",
    "c = \"This is Ram's book\"\n",
    "print(b)\n",
    "print(a+b)\n",
    "print(c)\n",
    "print(len(c))"
   ]
  },
  {
   "cell_type": "code",
   "execution_count": 15,
   "metadata": {},
   "outputs": [
    {
     "name": "stdout",
     "output_type": "stream",
     "text": [
      "cdefghijk\n",
      "abc\n",
      "def\n",
      "acegik\n",
      "kjihgfedcba\n"
     ]
    }
   ],
   "source": [
    "a=\"abcdefghijk\"\n",
    "print(a[2:])\n",
    "print(a[:3])\n",
    "print(a[3:6])\n",
    "print(a[::2]) #Step size\n",
    "print(a[::-1]) #str reverse"
   ]
  }
 ],
 "metadata": {
  "kernelspec": {
   "display_name": "Python 3",
   "language": "python",
   "name": "python3"
  },
  "language_info": {
   "codemirror_mode": {
    "name": "ipython",
    "version": 3
   },
   "file_extension": ".py",
   "mimetype": "text/x-python",
   "name": "python",
   "nbconvert_exporter": "python",
   "pygments_lexer": "ipython3",
   "version": "3.12.3"
  }
 },
 "nbformat": 4,
 "nbformat_minor": 2
}
