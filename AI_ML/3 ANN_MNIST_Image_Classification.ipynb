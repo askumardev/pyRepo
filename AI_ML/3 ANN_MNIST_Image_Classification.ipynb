{
 "cells": [
  {
   "cell_type": "markdown",
   "metadata": {
    "id": "ZnVQUWd5P5RA"
   },
   "source": [
    "## **Feed Forward Neural Network for Image Classification on the MNIST dataset**"
   ]
  },
  {
   "cell_type": "code",
   "execution_count": 1,
   "metadata": {
    "colab": {
     "base_uri": "https://localhost:8080/"
    },
    "executionInfo": {
     "elapsed": 12847,
     "status": "ok",
     "timestamp": 1733817316013,
     "user": {
      "displayName": "Dr. Darshan Ingle",
      "userId": "04404670917598221522"
     },
     "user_tz": -330
    },
    "id": "JNdaTy1qOivB",
    "outputId": "3ea0df79-0774-4fd8-81bb-9e82622e3665"
   },
   "outputs": [
    {
     "name": "stdout",
     "output_type": "stream",
     "text": [
      "2.18.0\n"
     ]
    }
   ],
   "source": [
    "import tensorflow as tf\n",
    "print(tf.__version__)"
   ]
  },
  {
   "cell_type": "code",
   "execution_count": 2,
   "metadata": {
    "colab": {
     "base_uri": "https://localhost:8080/"
    },
    "executionInfo": {
     "elapsed": 4,
     "status": "ok",
     "timestamp": 1733817316013,
     "user": {
      "displayName": "Dr. Darshan Ingle",
      "userId": "04404670917598221522"
     },
     "user_tz": -330
    },
    "id": "ctgeQNnsP5qB",
    "outputId": "85b09013-b972-44c8-c58e-584feed44344"
   },
   "outputs": [
    {
     "name": "stdout",
     "output_type": "stream",
     "text": [
      "Downloading data from https://storage.googleapis.com/tensorflow/tf-keras-datasets/mnist.npz\n"
     ]
    },
    {
     "name": "stdout",
     "output_type": "stream",
     "text": [
      "\u001b[1m11490434/11490434\u001b[0m \u001b[32m━━━━━━━━━━━━━━━━━━━━\u001b[0m\u001b[37m\u001b[0m \u001b[1m3s\u001b[0m 0us/step\n"
     ]
    }
   ],
   "source": [
    "# Load in the data\n",
    "mnist = tf.keras.datasets.mnist\n",
    "(x_train, y_train), (x_test, y_test) = mnist.load_data()"
   ]
  },
  {
   "cell_type": "code",
   "execution_count": 3,
   "metadata": {
    "colab": {
     "base_uri": "https://localhost:8080/"
    },
    "executionInfo": {
     "elapsed": 2,
     "status": "ok",
     "timestamp": 1733817316013,
     "user": {
      "displayName": "Dr. Darshan Ingle",
      "userId": "04404670917598221522"
     },
     "user_tz": -330
    },
    "id": "zTtpuclmQF-A",
    "outputId": "83831715-14ea-488a-e7e3-d1ba90f3adf9"
   },
   "outputs": [
    {
     "name": "stdout",
     "output_type": "stream",
     "text": [
      "x_train shape: (60000, 28, 28)\n",
      "y_train shape: (60000,)\n",
      "x_test shape: (10000, 28, 28)\n",
      "y_test shape: (10000,)\n"
     ]
    }
   ],
   "source": [
    "# Print shape of x_train, y_train, x_test, y_test\n",
    "print(\"x_train shape:\", x_train.shape)\n",
    "print(\"y_train shape:\", y_train.shape)\n",
    "print(\"x_test shape:\", x_test.shape)\n",
    "print(\"y_test shape:\", y_test.shape)"
   ]
  },
  {
   "cell_type": "code",
   "execution_count": 4,
   "metadata": {
    "colab": {
     "base_uri": "https://localhost:8080/",
     "height": 237
    },
    "executionInfo": {
     "elapsed": 1859,
     "status": "ok",
     "timestamp": 1733817317871,
     "user": {
      "displayName": "Dr. Darshan Ingle",
      "userId": "04404670917598221522"
     },
     "user_tz": -330
    },
    "id": "RtuKygzQQe8N",
    "outputId": "f740f677-8452-433d-d87d-f98da9e59e89"
   },
   "outputs": [
    {
     "data": {
      "image/png": "[encoded data removed]",
      "text/plain": [
       "<Figure size 200x200 with 1 Axes>"
      ]
     },
     "metadata": {},
     "output_type": "display_data"
    }
   ],
   "source": [
    "# Lets plot the 0th image and print its label\n",
    "import matplotlib.pyplot as plt\n",
    "plt.figure(figsize=(2,2))\n",
    "plt.imshow(x_train[0], cmap='gray')\n",
    "plt.title('Label: {}'.format(y_train[0]))\n",
    "plt.show()"
   ]
  },
  {
   "cell_type": "code",
   "execution_count": 5,
   "metadata": {
    "colab": {
     "base_uri": "https://localhost:8080/",
     "height": 237
    },
    "executionInfo": {
     "elapsed": 5,
     "status": "ok",
     "timestamp": 1733817317871,
     "user": {
      "displayName": "Dr. Darshan Ingle",
      "userId": "04404670917598221522"
     },
     "user_tz": -330
    },
    "id": "g-hYc-06Qz-9",
    "outputId": "41ece827-ab1a-4b12-a3f4-8ac0e82b53c6"
   },
   "outputs": [
    {
     "data": {
      "image/png": "[encoded data removed]",
      "text/plain": [
       "<Figure size 200x200 with 1 Axes>"
      ]
     },
     "metadata": {},
     "output_type": "display_data"
    }
   ],
   "source": [
    "# Lets plot the 100th image and print its label\n",
    "import matplotlib.pyplot as plt\n",
    "plt.figure(figsize=(2,2))\n",
    "plt.imshow(x_train[100], cmap='gray')\n",
    "plt.title('Label: {}'.format(y_train[100]))\n",
    "plt.show()"
   ]
  },
  {
   "cell_type": "code",
   "execution_count": 6,
   "metadata": {
    "colab": {
     "base_uri": "https://localhost:8080/",
     "height": 237
    },
    "executionInfo": {
     "elapsed": 4,
     "status": "ok",
     "timestamp": 1733817317871,
     "user": {
      "displayName": "Dr. Darshan Ingle",
      "userId": "04404670917598221522"
     },
     "user_tz": -330
    },
    "id": "1FNwcSYaRAQp",
    "outputId": "322e6a8e-bfab-4f26-fc80-53cfcc8ad82b"
   },
   "outputs": [
    {
     "data": {
      "image/png": "[encoded data removed]",
      "text/plain": [
       "<Figure size 200x200 with 1 Axes>"
      ]
     },
     "metadata": {},
     "output_type": "display_data"
    }
   ],
   "source": [
    "# Lets plot the 110th image and print its label\n",
    "import matplotlib.pyplot as plt\n",
    "plt.figure(figsize=(2,2))\n",
    "plt.imshow(x_train[110], cmap='gray')\n",
    "plt.title('Label: {}'.format(y_train[110]))\n",
    "plt.show()"
   ]
  },
  {
   "cell_type": "code",
   "execution_count": 7,
   "metadata": {
    "colab": {
     "base_uri": "https://localhost:8080/",
     "height": 237
    },
    "executionInfo": {
     "elapsed": 4,
     "status": "ok",
     "timestamp": 1733817317871,
     "user": {
      "displayName": "Dr. Darshan Ingle",
      "userId": "04404670917598221522"
     },
     "user_tz": -330
    },
    "id": "Xd61l4FJREC6",
    "outputId": "d886a178-4fe6-4a30-8273-6871e37bb013"
   },
   "outputs": [
    {
     "data": {
      "image/png": "[encoded data removed]",
      "text/plain": [
       "<Figure size 200x200 with 1 Axes>"
      ]
     },
     "metadata": {},
     "output_type": "display_data"
    }
   ],
   "source": [
    "# Lets plot the 0th image and print its label\n",
    "import matplotlib.pyplot as plt\n",
    "plt.figure(figsize=(2,2))\n",
    "plt.imshow(x_test[0], cmap='gray')\n",
    "plt.title('Label: {}'.format(y_test[0]))\n",
    "plt.show()"
   ]
  },
  {
   "cell_type": "code",
   "execution_count": 8,
   "metadata": {
    "colab": {
     "base_uri": "https://localhost:8080/",
     "height": 237
    },
    "executionInfo": {
     "elapsed": 470,
     "status": "ok",
     "timestamp": 1733817318337,
     "user": {
      "displayName": "Dr. Darshan Ingle",
      "userId": "04404670917598221522"
     },
     "user_tz": -330
    },
    "id": "tCy1L0cNRL0W",
    "outputId": "95e4e99e-82f8-4d51-f075-a74ebe863296"
   },
   "outputs": [
    {
     "data": {
      "image/png": "[encoded data removed]",
      "text/plain": [
       "<Figure size 200x200 with 1 Axes>"
      ]
     },
     "metadata": {},
     "output_type": "display_data"
    }
   ],
   "source": [
    "# Lets plot the 9000th image and print its label\n",
    "import matplotlib.pyplot as plt\n",
    "plt.figure(figsize=(2,2))\n",
    "plt.imshow(x_test[9000], cmap='gray')\n",
    "plt.title('Label: {}'.format(y_test[9000]))\n",
    "plt.show()"
   ]
  },
  {
   "cell_type": "code",
   "execution_count": 9,
   "metadata": {
    "colab": {
     "base_uri": "https://localhost:8080/",
     "height": 68
    },
    "executionInfo": {
     "elapsed": 1695,
     "status": "ok",
     "timestamp": 1733817320029,
     "user": {
      "displayName": "Dr. Darshan Ingle",
      "userId": "04404670917598221522"
     },
     "user_tz": -330
    },
    "id": "8PidQLyURP-i",
    "outputId": "d9158a16-50d6-4092-c801-c91b0f144f8e"
   },
   "outputs": [
    {
     "data": {
      "text/plain": [
       "array([[  0,   0,   0,   0,   0,   0,   0,   0,   0,   0,   0,   0,   0,\n",
       "          0,   0,   0,   0,   0,   0,   0,   0,   0,   0,   0,   0,   0,\n",
       "          0,   0],\n",
       "       [  0,   0,   0,   0,   0,   0,   0,   0,   0,   0,   0,   0,   0,\n",
       "          0,   0,   0,   0,   0,   0,   0,   0,   0,   0,   0,   0,   0,\n",
       "          0,   0],\n",
       "       [  0,   0,   0,   0,   0,   0,   0,   0,   0,   0,   0,   0,   0,\n",
       "          0,   0,   0,   0,   0,   0,   0,   0,   0,   0,   0,   0,   0,\n",
       "          0,   0],\n",
       "       [  0,   0,   0,   0,   0,   0,   0,   0,   0,   0,   0,   0,   0,\n",
       "          0,   0,   0,   0,   0,   0,   0,   0,   0,   0,   0,   0,   0,\n",
       "          0,   0],\n",
       "       [  0,   0,   0,   0,   0,   0,   0,   0,   0,   0,   0,   0,   0,\n",
       "          0,   0,   0,   0,   0,   0,   0,   0,   0,   0,   0,   0,   0,\n",
       "          0,   0],\n",
       "       [  0,   0,   0,   0,   0,   0,   0,   0,   0,   0,   0,   0,   3,\n",
       "         18,  18,  18, 126, 136, 175,  26, 166, 255, 247, 127,   0,   0,\n",
       "          0,   0],\n",
       "       [  0,   0,   0,   0,   0,   0,   0,   0,  30,  36,  94, 154, 170,\n",
       "        253, 253, 253, 253, 253, 225, 172, 253, 242, 195,  64,   0,   0,\n",
       "          0,   0],\n",
       "       [  0,   0,   0,   0,   0,   0,   0,  49, 238, 253, 253, 253, 253,\n",
       "        253, 253, 253, 253, 251,  93,  82,  82,  56,  39,   0,   0,   0,\n",
       "          0,   0],\n",
       "       [  0,   0,   0,   0,   0,   0,   0,  18, 219, 253, 253, 253, 253,\n",
       "        253, 198, 182, 247, 241,   0,   0,   0,   0,   0,   0,   0,   0,\n",
       "          0,   0],\n",
       "       [  0,   0,   0,   0,   0,   0,   0,   0,  80, 156, 107, 253, 253,\n",
       "        205,  11,   0,  43, 154,   0,   0,   0,   0,   0,   0,   0,   0,\n",
       "          0,   0],\n",
       "       [  0,   0,   0,   0,   0,   0,   0,   0,   0,  14,   1, 154, 253,\n",
       "         90,   0,   0,   0,   0,   0,   0,   0,   0,   0,   0,   0,   0,\n",
       "          0,   0],\n",
       "       [  0,   0,   0,   0,   0,   0,   0,   0,   0,   0,   0, 139, 253,\n",
       "        190,   2,   0,   0,   0,   0,   0,   0,   0,   0,   0,   0,   0,\n",
       "          0,   0],\n",
       "       [  0,   0,   0,   0,   0,   0,   0,   0,   0,   0,   0,  11, 190,\n",
       "        253,  70,   0,   0,   0,   0,   0,   0,   0,   0,   0,   0,   0,\n",
       "          0,   0],\n",
       "       [  0,   0,   0,   0,   0,   0,   0,   0,   0,   0,   0,   0,  35,\n",
       "        241, 225, 160, 108,   1,   0,   0,   0,   0,   0,   0,   0,   0,\n",
       "          0,   0],\n",
       "       [  0,   0,   0,   0,   0,   0,   0,   0,   0,   0,   0,   0,   0,\n",
       "         81, 240, 253, 253, 119,  25,   0,   0,   0,   0,   0,   0,   0,\n",
       "          0,   0],\n",
       "       [  0,   0,   0,   0,   0,   0,   0,   0,   0,   0,   0,   0,   0,\n",
       "          0,  45, 186, 253, 253, 150,  27,   0,   0,   0,   0,   0,   0,\n",
       "          0,   0],\n",
       "       [  0,   0,   0,   0,   0,   0,   0,   0,   0,   0,   0,   0,   0,\n",
       "          0,   0,  16,  93, 252, 253, 187,   0,   0,   0,   0,   0,   0,\n",
       "          0,   0],\n",
       "       [  0,   0,   0,   0,   0,   0,   0,   0,   0,   0,   0,   0,   0,\n",
       "          0,   0,   0,   0, 249, 253, 249,  64,   0,   0,   0,   0,   0,\n",
       "          0,   0],\n",
       "       [  0,   0,   0,   0,   0,   0,   0,   0,   0,   0,   0,   0,   0,\n",
       "          0,  46, 130, 183, 253, 253, 207,   2,   0,   0,   0,   0,   0,\n",
       "          0,   0],\n",
       "       [  0,   0,   0,   0,   0,   0,   0,   0,   0,   0,   0,   0,  39,\n",
       "        148, 229, 253, 253, 253, 250, 182,   0,   0,   0,   0,   0,   0,\n",
       "          0,   0],\n",
       "       [  0,   0,   0,   0,   0,   0,   0,   0,   0,   0,  24, 114, 221,\n",
       "        253, 253, 253, 253, 201,  78,   0,   0,   0,   0,   0,   0,   0,\n",
       "          0,   0],\n",
       "       [  0,   0,   0,   0,   0,   0,   0,   0,  23,  66, 213, 253, 253,\n",
       "        253, 253, 198,  81,   2,   0,   0,   0,   0,   0,   0,   0,   0,\n",
       "          0,   0],\n",
       "       [  0,   0,   0,   0,   0,   0,  18, 171, 219, 253, 253, 253, 253,\n",
       "        195,  80,   9,   0,   0,   0,   0,   0,   0,   0,   0,   0,   0,\n",
       "          0,   0],\n",
       "       [  0,   0,   0,   0,  55, 172, 226, 253, 253, 253, 253, 244, 133,\n",
       "         11,   0,   0,   0,   0,   0,   0,   0,   0,   0,   0,   0,   0,\n",
       "          0,   0],\n",
       "       [  0,   0,   0,   0, 136, 253, 253, 253, 212, 135, 132,  16,   0,\n",
       "          0,   0,   0,   0,   0,   0,   0,   0,   0,   0,   0,   0,   0,\n",
       "          0,   0],\n",
       "       [  0,   0,   0,   0,   0,   0,   0,   0,   0,   0,   0,   0,   0,\n",
       "          0,   0,   0,   0,   0,   0,   0,   0,   0,   0,   0,   0,   0,\n",
       "          0,   0],\n",
       "       [  0,   0,   0,   0,   0,   0,   0,   0,   0,   0,   0,   0,   0,\n",
       "          0,   0,   0,   0,   0,   0,   0,   0,   0,   0,   0,   0,   0,\n",
       "          0,   0],\n",
       "       [  0,   0,   0,   0,   0,   0,   0,   0,   0,   0,   0,   0,   0,\n",
       "          0,   0,   0,   0,   0,   0,   0,   0,   0,   0,   0,   0,   0,\n",
       "          0,   0]], dtype=uint8)"
      ]
     },
     "execution_count": 9,
     "metadata": {},
     "output_type": "execute_result"
    }
   ],
   "source": [
    "x_train[0]"
   ]
  },
  {
   "cell_type": "code",
   "execution_count": 10,
   "metadata": {
    "executionInfo": {
     "elapsed": 5,
     "status": "ok",
     "timestamp": 1733817320029,
     "user": {
      "displayName": "Dr. Darshan Ingle",
      "userId": "04404670917598221522"
     },
     "user_tz": -330
    },
    "id": "B5ScMVdDRU03"
   },
   "outputs": [],
   "source": [
    "x_train, x_test = x_train / 255.0, x_test / 255.0"
   ]
  },
  {
   "cell_type": "code",
   "execution_count": 11,
   "metadata": {
    "colab": {
     "base_uri": "https://localhost:8080/",
     "height": 237
    },
    "executionInfo": {
     "elapsed": 5,
     "status": "ok",
     "timestamp": 1733817320029,
     "user": {
      "displayName": "Dr. Darshan Ingle",
      "userId": "04404670917598221522"
     },
     "user_tz": -330
    },
    "id": "TJhJOtMgRsZV",
    "outputId": "c50f5215-cf41-4100-ec3e-1738dcde2499"
   },
   "outputs": [
    {
     "data": {
      "image/png": "[encoded data removed]",
      "text/plain": [
       "<Figure size 200x200 with 1 Axes>"
      ]
     },
     "metadata": {},
     "output_type": "display_data"
    }
   ],
   "source": [
    "# Lets plot the 9000th image and print its label\n",
    "import matplotlib.pyplot as plt\n",
    "plt.figure(figsize=(2,2))\n",
    "plt.imshow(x_test[9000], cmap='gray')\n",
    "plt.title('Label: {}'.format(y_test[9000]))\n",
    "plt.show()"
   ]
  },
  {
   "cell_type": "code",
   "execution_count": 12,
   "metadata": {
    "colab": {
     "base_uri": "https://localhost:8080/"
    },
    "executionInfo": {
     "elapsed": 4,
     "status": "ok",
     "timestamp": 1733817320029,
     "user": {
      "displayName": "Dr. Darshan Ingle",
      "userId": "04404670917598221522"
     },
     "user_tz": -330
    },
    "id": "MevScTeySGTf",
    "outputId": "42aa9b7d-8a5a-480c-a97e-275223f2e5f7"
   },
   "outputs": [
    {
     "data": {
      "text/plain": [
       "784"
      ]
     },
     "execution_count": 12,
     "metadata": {},
     "output_type": "execute_result"
    }
   ],
   "source": [
    "28*28"
   ]
  },
  {
   "cell_type": "code",
   "execution_count": 13,
   "metadata": {
    "executionInfo": {
     "elapsed": 434,
     "status": "ok",
     "timestamp": 1733818709311,
     "user": {
      "displayName": "Dr. Darshan Ingle",
      "userId": "04404670917598221522"
     },
     "user_tz": -330
    },
    "id": "WdyAcTpWRut9"
   },
   "outputs": [],
   "source": [
    "# Build/Instantiate the model\n",
    "# model = tf.keras.models.Sequential([\n",
    "#   tf.keras.Input(shape=(28, 28)),\n",
    "#     tf.keras.layers.Flatten(),\n",
    "#   tf.keras.layers.Dense(128, activation='relu'),\n",
    "#   tf.keras.layers.Dropout(0.2),\n",
    "#   tf.keras.layers.Dense(10, activation='softmax')\n",
    "# ])\n",
    "\n",
    "initializer = tf.keras.initializers.GlorotNormal()\n",
    "\n",
    "model = tf.keras.models.Sequential([\n",
    "  tf.keras.Input(shape=(28, 28)),\n",
    "    tf.keras.layers.Flatten(),\n",
    "  tf.keras.layers.Dense(128, activation='elu', kernel_initializer=initializer),\n",
    "  tf.keras.layers.Dropout(0.2),\n",
    "  tf.keras.layers.Dense(256, activation='relu', kernel_initializer=initializer),\n",
    "  tf.keras.layers.Dropout(0.2),\n",
    "  tf.keras.layers.Dense(10, activation='softmax')\n",
    "])"
   ]
  },
  {
   "cell_type": "code",
   "execution_count": 14,
   "metadata": {
    "executionInfo": {
     "elapsed": 1,
     "status": "ok",
     "timestamp": 1733818710476,
     "user": {
      "displayName": "Dr. Darshan Ingle",
      "userId": "04404670917598221522"
     },
     "user_tz": -330
    },
    "id": "UTFCquwXS1J1"
   },
   "outputs": [],
   "source": [
    "# Compile the compile\n",
    "# model.compile(optimizer='adam',\n",
    "#               loss='sparse_categorical_crossentropy',\n",
    "#               metrics=['accuracy'])\n",
    "\n",
    "opt = tf.keras.optimizers.SGD(\n",
    "    learning_rate=0.001,\n",
    "    momentum=0.001,\n",
    ")\n",
    "\n",
    "model.compile(optimizer=opt,\n",
    "              loss='sparse_categorical_crossentropy',\n",
    "              metrics=['accuracy'])"
   ]
  },
  {
   "cell_type": "code",
   "execution_count": 15,
   "metadata": {
    "colab": {
     "base_uri": "https://localhost:8080/"
    },
    "executionInfo": {
     "elapsed": 420,
     "status": "ok",
     "timestamp": 1733818366915,
     "user": {
      "displayName": "Dr. Darshan Ingle",
      "userId": "04404670917598221522"
     },
     "user_tz": -330
    },
    "id": "LBXRL36coKKQ",
    "outputId": "a9224fbf-5d37-4b66-fc0b-2f31bdca4772"
   },
   "outputs": [
    {
     "data": {
      "text/plain": [
       "0.009799999999999975"
      ]
     },
     "execution_count": 15,
     "metadata": {},
     "output_type": "execute_result"
    }
   ],
   "source": [
    "0.3236 - 0.3138"
   ]
  },
  {
   "cell_type": "code",
   "execution_count": 16,
   "metadata": {
    "colab": {
     "base_uri": "https://localhost:8080/"
    },
    "executionInfo": {
     "elapsed": 218990,
     "status": "ok",
     "timestamp": 1733818934651,
     "user": {
      "displayName": "Dr. Darshan Ingle",
      "userId": "04404670917598221522"
     },
     "user_tz": -330
    },
    "id": "q8-ZdPOmTdba",
    "outputId": "c17f398d-7eb0-4d51-dd0a-82a3affad5e5"
   },
   "outputs": [
    {
     "name": "stdout",
     "output_type": "stream",
     "text": [
      "Epoch 1/200\n",
      "\u001b[1m1875/1875\u001b[0m \u001b[32m━━━━━━━━━━━━━━━━━━━━\u001b[0m\u001b[37m\u001b[0m \u001b[1m5s\u001b[0m 2ms/step - accuracy: 0.3078 - loss: 2.0780 - val_accuracy: 0.7715 - val_loss: 1.2323\n",
      "Epoch 2/200\n",
      "\u001b[1m1875/1875\u001b[0m \u001b[32m━━━━━━━━━━━━━━━━━━━━\u001b[0m\u001b[37m\u001b[0m \u001b[1m4s\u001b[0m 2ms/step - accuracy: 0.7158 - loss: 1.1673 - val_accuracy: 0.8364 - val_loss: 0.7191\n",
      "Epoch 3/200\n",
      "\u001b[1m1875/1875\u001b[0m \u001b[32m━━━━━━━━━━━━━━━━━━━━\u001b[0m\u001b[37m\u001b[0m \u001b[1m4s\u001b[0m 2ms/step - accuracy: 0.7894 - loss: 0.7834 - val_accuracy: 0.8634 - val_loss: 0.5439\n",
      "Epoch 4/200\n",
      "\u001b[1m1875/1875\u001b[0m \u001b[32m━━━━━━━━━━━━━━━━━━━━\u001b[0m\u001b[37m\u001b[0m \u001b[1m4s\u001b[0m 2ms/step - accuracy: 0.8219 - loss: 0.6300 - val_accuracy: 0.8768 - val_loss: 0.4621\n",
      "Epoch 5/200\n",
      "\u001b[1m1875/1875\u001b[0m \u001b[32m━━━━━━━━━━━━━━━━━━━━\u001b[0m\u001b[37m\u001b[0m \u001b[1m4s\u001b[0m 2ms/step - accuracy: 0.8401 - loss: 0.5560 - val_accuracy: 0.8852 - val_loss: 0.4162\n",
      "Epoch 6/200\n",
      "\u001b[1m1875/1875\u001b[0m \u001b[32m━━━━━━━━━━━━━━━━━━━━\u001b[0m\u001b[37m\u001b[0m \u001b[1m4s\u001b[0m 2ms/step - accuracy: 0.8540 - loss: 0.5054 - val_accuracy: 0.8937 - val_loss: 0.3854\n",
      "Epoch 7/200\n",
      "\u001b[1m1875/1875\u001b[0m \u001b[32m━━━━━━━━━━━━━━━━━━━━\u001b[0m\u001b[37m\u001b[0m \u001b[1m4s\u001b[0m 2ms/step - accuracy: 0.8619 - loss: 0.4784 - val_accuracy: 0.8979 - val_loss: 0.3648\n",
      "Epoch 8/200\n",
      "\u001b[1m1875/1875\u001b[0m \u001b[32m━━━━━━━━━━━━━━━━━━━━\u001b[0m\u001b[37m\u001b[0m \u001b[1m4s\u001b[0m 2ms/step - accuracy: 0.8714 - loss: 0.4437 - val_accuracy: 0.9029 - val_loss: 0.3473\n",
      "Epoch 9/200\n",
      "\u001b[1m1875/1875\u001b[0m \u001b[32m━━━━━━━━━━━━━━━━━━━━\u001b[0m\u001b[37m\u001b[0m \u001b[1m4s\u001b[0m 2ms/step - accuracy: 0.8742 - loss: 0.4271 - val_accuracy: 0.9047 - val_loss: 0.3349\n",
      "Epoch 10/200\n",
      "\u001b[1m1875/1875\u001b[0m \u001b[32m━━━━━━━━━━━━━━━━━━━━\u001b[0m\u001b[37m\u001b[0m \u001b[1m4s\u001b[0m 2ms/step - accuracy: 0.8796 - loss: 0.4082 - val_accuracy: 0.9085 - val_loss: 0.3236\n",
      "Epoch 11/200\n",
      "\u001b[1m1875/1875\u001b[0m \u001b[32m━━━━━━━━━━━━━━━━━━━━\u001b[0m\u001b[37m\u001b[0m \u001b[1m5s\u001b[0m 2ms/step - accuracy: 0.8829 - loss: 0.3983 - val_accuracy: 0.9118 - val_loss: 0.3131\n",
      "Epoch 12/200\n",
      "\u001b[1m1875/1875\u001b[0m \u001b[32m━━━━━━━━━━━━━━━━━━━━\u001b[0m\u001b[37m\u001b[0m \u001b[1m4s\u001b[0m 2ms/step - accuracy: 0.8863 - loss: 0.3862 - val_accuracy: 0.9135 - val_loss: 0.3049\n",
      "Epoch 13/200\n",
      "\u001b[1m1875/1875\u001b[0m \u001b[32m━━━━━━━━━━━━━━━━━━━━\u001b[0m\u001b[37m\u001b[0m \u001b[1m4s\u001b[0m 2ms/step - accuracy: 0.8889 - loss: 0.3751 - val_accuracy: 0.9150 - val_loss: 0.2977\n",
      "Epoch 14/200\n",
      "\u001b[1m1875/1875\u001b[0m \u001b[32m━━━━━━━━━━━━━━━━━━━━\u001b[0m\u001b[37m\u001b[0m \u001b[1m4s\u001b[0m 2ms/step - accuracy: 0.8941 - loss: 0.3642 - val_accuracy: 0.9165 - val_loss: 0.2916\n",
      "Epoch 15/200\n",
      "\u001b[1m1875/1875\u001b[0m \u001b[32m━━━━━━━━━━━━━━━━━━━━\u001b[0m\u001b[37m\u001b[0m \u001b[1m4s\u001b[0m 2ms/step - accuracy: 0.8962 - loss: 0.3555 - val_accuracy: 0.9182 - val_loss: 0.2846\n",
      "Epoch 16/200\n",
      "\u001b[1m1875/1875\u001b[0m \u001b[32m━━━━━━━━━━━━━━━━━━━━\u001b[0m\u001b[37m\u001b[0m \u001b[1m4s\u001b[0m 2ms/step - accuracy: 0.8971 - loss: 0.3531 - val_accuracy: 0.9189 - val_loss: 0.2795\n",
      "Epoch 17/200\n",
      "\u001b[1m1875/1875\u001b[0m \u001b[32m━━━━━━━━━━━━━━━━━━━━\u001b[0m\u001b[37m\u001b[0m \u001b[1m6s\u001b[0m 3ms/step - accuracy: 0.9018 - loss: 0.3344 - val_accuracy: 0.9207 - val_loss: 0.2741\n",
      "Epoch 18/200\n",
      "\u001b[1m1875/1875\u001b[0m \u001b[32m━━━━━━━━━━━━━━━━━━━━\u001b[0m\u001b[37m\u001b[0m \u001b[1m5s\u001b[0m 3ms/step - accuracy: 0.9031 - loss: 0.3305 - val_accuracy: 0.9211 - val_loss: 0.2693\n",
      "Epoch 19/200\n",
      "\u001b[1m1875/1875\u001b[0m \u001b[32m━━━━━━━━━━━━━━━━━━━━\u001b[0m\u001b[37m\u001b[0m \u001b[1m5s\u001b[0m 3ms/step - accuracy: 0.9033 - loss: 0.3286 - val_accuracy: 0.9227 - val_loss: 0.2646\n",
      "Epoch 20/200\n",
      "\u001b[1m1875/1875\u001b[0m \u001b[32m━━━━━━━━━━━━━━━━━━━━\u001b[0m\u001b[37m\u001b[0m \u001b[1m6s\u001b[0m 3ms/step - accuracy: 0.9047 - loss: 0.3290 - val_accuracy: 0.9237 - val_loss: 0.2597\n",
      "Epoch 21/200\n",
      "\u001b[1m1875/1875\u001b[0m \u001b[32m━━━━━━━━━━━━━━━━━━━━\u001b[0m\u001b[37m\u001b[0m \u001b[1m5s\u001b[0m 3ms/step - accuracy: 0.9069 - loss: 0.3167 - val_accuracy: 0.9245 - val_loss: 0.2553\n",
      "Epoch 22/200\n",
      "\u001b[1m1875/1875\u001b[0m \u001b[32m━━━━━━━━━━━━━━━━━━━━\u001b[0m\u001b[37m\u001b[0m \u001b[1m5s\u001b[0m 3ms/step - accuracy: 0.9096 - loss: 0.3086 - val_accuracy: 0.9256 - val_loss: 0.2519\n",
      "Epoch 23/200\n",
      "\u001b[1m1875/1875\u001b[0m \u001b[32m━━━━━━━━━━━━━━━━━━━━\u001b[0m\u001b[37m\u001b[0m \u001b[1m5s\u001b[0m 3ms/step - accuracy: 0.9118 - loss: 0.3055 - val_accuracy: 0.9272 - val_loss: 0.2475\n",
      "Epoch 24/200\n",
      "\u001b[1m1875/1875\u001b[0m \u001b[32m━━━━━━━━━━━━━━━━━━━━\u001b[0m\u001b[37m\u001b[0m \u001b[1m6s\u001b[0m 3ms/step - accuracy: 0.9123 - loss: 0.3026 - val_accuracy: 0.9287 - val_loss: 0.2438\n",
      "Epoch 25/200\n",
      "\u001b[1m1875/1875\u001b[0m \u001b[32m━━━━━━━━━━━━━━━━━━━━\u001b[0m\u001b[37m\u001b[0m \u001b[1m6s\u001b[0m 3ms/step - accuracy: 0.9138 - loss: 0.2951 - val_accuracy: 0.9291 - val_loss: 0.2402\n",
      "Epoch 26/200\n",
      "\u001b[1m1875/1875\u001b[0m \u001b[32m━━━━━━━━━━━━━━━━━━━━\u001b[0m\u001b[37m\u001b[0m \u001b[1m6s\u001b[0m 3ms/step - accuracy: 0.9132 - loss: 0.2959 - val_accuracy: 0.9300 - val_loss: 0.2365\n",
      "Epoch 27/200\n",
      "\u001b[1m1875/1875\u001b[0m \u001b[32m━━━━━━━━━━━━━━━━━━━━\u001b[0m\u001b[37m\u001b[0m \u001b[1m6s\u001b[0m 3ms/step - accuracy: 0.9146 - loss: 0.2897 - val_accuracy: 0.9305 - val_loss: 0.2337\n",
      "Epoch 28/200\n",
      "\u001b[1m1875/1875\u001b[0m \u001b[32m━━━━━━━━━━━━━━━━━━━━\u001b[0m\u001b[37m\u001b[0m \u001b[1m6s\u001b[0m 3ms/step - accuracy: 0.9121 - loss: 0.2912 - val_accuracy: 0.9313 - val_loss: 0.2303\n",
      "Epoch 29/200\n",
      "\u001b[1m1875/1875\u001b[0m \u001b[32m━━━━━━━━━━━━━━━━━━━━\u001b[0m\u001b[37m\u001b[0m \u001b[1m6s\u001b[0m 3ms/step - accuracy: 0.9158 - loss: 0.2810 - val_accuracy: 0.9331 - val_loss: 0.2271\n",
      "Epoch 30/200\n",
      "\u001b[1m1875/1875\u001b[0m \u001b[32m━━━━━━━━━━━━━━━━━━━━\u001b[0m\u001b[37m\u001b[0m \u001b[1m6s\u001b[0m 3ms/step - accuracy: 0.9174 - loss: 0.2799 - val_accuracy: 0.9337 - val_loss: 0.2239\n",
      "Epoch 31/200\n",
      "\u001b[1m1875/1875\u001b[0m \u001b[32m━━━━━━━━━━━━━━━━━━━━\u001b[0m\u001b[37m\u001b[0m \u001b[1m6s\u001b[0m 3ms/step - accuracy: 0.9189 - loss: 0.2768 - val_accuracy: 0.9340 - val_loss: 0.2213\n",
      "Epoch 32/200\n",
      "\u001b[1m1875/1875\u001b[0m \u001b[32m━━━━━━━━━━━━━━━━━━━━\u001b[0m\u001b[37m\u001b[0m \u001b[1m5s\u001b[0m 3ms/step - accuracy: 0.9225 - loss: 0.2647 - val_accuracy: 0.9350 - val_loss: 0.2186\n",
      "Epoch 33/200\n",
      "\u001b[1m1875/1875\u001b[0m \u001b[32m━━━━━━━━━━━━━━━━━━━━\u001b[0m\u001b[37m\u001b[0m \u001b[1m5s\u001b[0m 3ms/step - accuracy: 0.9211 - loss: 0.2696 - val_accuracy: 0.9350 - val_loss: 0.2158\n",
      "Epoch 34/200\n",
      "\u001b[1m1875/1875\u001b[0m \u001b[32m━━━━━━━━━━━━━━━━━━━━\u001b[0m\u001b[37m\u001b[0m \u001b[1m5s\u001b[0m 3ms/step - accuracy: 0.9225 - loss: 0.2664 - val_accuracy: 0.9366 - val_loss: 0.2133\n",
      "Epoch 35/200\n",
      "\u001b[1m1875/1875\u001b[0m \u001b[32m━━━━━━━━━━━━━━━━━━━━\u001b[0m\u001b[37m\u001b[0m \u001b[1m5s\u001b[0m 3ms/step - accuracy: 0.9241 - loss: 0.2587 - val_accuracy: 0.9366 - val_loss: 0.2108\n",
      "Epoch 36/200\n",
      "\u001b[1m1875/1875\u001b[0m \u001b[32m━━━━━━━━━━━━━━━━━━━━\u001b[0m\u001b[37m\u001b[0m \u001b[1m6s\u001b[0m 3ms/step - accuracy: 0.9249 - loss: 0.2523 - val_accuracy: 0.9367 - val_loss: 0.2077\n",
      "Epoch 37/200\n",
      "\u001b[1m1875/1875\u001b[0m \u001b[32m━━━━━━━━━━━━━━━━━━━━\u001b[0m\u001b[37m\u001b[0m \u001b[1m6s\u001b[0m 3ms/step - accuracy: 0.9235 - loss: 0.2543 - val_accuracy: 0.9374 - val_loss: 0.2055\n",
      "Epoch 38/200\n",
      "\u001b[1m1875/1875\u001b[0m \u001b[32m━━━━━━━━━━━━━━━━━━━━\u001b[0m\u001b[37m\u001b[0m \u001b[1m5s\u001b[0m 3ms/step - accuracy: 0.9253 - loss: 0.2537 - val_accuracy: 0.9379 - val_loss: 0.2031\n",
      "Epoch 39/200\n",
      "\u001b[1m1875/1875\u001b[0m \u001b[32m━━━━━━━━━━━━━━━━━━━━\u001b[0m\u001b[37m\u001b[0m \u001b[1m6s\u001b[0m 3ms/step - accuracy: 0.9246 - loss: 0.2518 - val_accuracy: 0.9393 - val_loss: 0.2005\n",
      "Epoch 40/200\n",
      "\u001b[1m1875/1875\u001b[0m \u001b[32m━━━━━━━━━━━━━━━━━━━━\u001b[0m\u001b[37m\u001b[0m \u001b[1m6s\u001b[0m 3ms/step - accuracy: 0.9282 - loss: 0.2467 - val_accuracy: 0.9398 - val_loss: 0.1983\n",
      "Epoch 41/200\n",
      "\u001b[1m1875/1875\u001b[0m \u001b[32m━━━━━━━━━━━━━━━━━━━━\u001b[0m\u001b[37m\u001b[0m \u001b[1m6s\u001b[0m 3ms/step - accuracy: 0.9266 - loss: 0.2482 - val_accuracy: 0.9408 - val_loss: 0.1962\n",
      "Epoch 42/200\n",
      "\u001b[1m1875/1875\u001b[0m \u001b[32m━━━━━━━━━━━━━━━━━━━━\u001b[0m\u001b[37m\u001b[0m \u001b[1m5s\u001b[0m 3ms/step - accuracy: 0.9275 - loss: 0.2470 - val_accuracy: 0.9408 - val_loss: 0.1941\n",
      "Epoch 43/200\n",
      "\u001b[1m1875/1875\u001b[0m \u001b[32m━━━━━━━━━━━━━━━━━━━━\u001b[0m\u001b[37m\u001b[0m \u001b[1m5s\u001b[0m 3ms/step - accuracy: 0.9283 - loss: 0.2390 - val_accuracy: 0.9419 - val_loss: 0.1923\n",
      "Epoch 44/200\n",
      "\u001b[1m1875/1875\u001b[0m \u001b[32m━━━━━━━━━━━━━━━━━━━━\u001b[0m\u001b[37m\u001b[0m \u001b[1m5s\u001b[0m 3ms/step - accuracy: 0.9288 - loss: 0.2373 - val_accuracy: 0.9424 - val_loss: 0.1903\n",
      "Epoch 45/200\n",
      "\u001b[1m1875/1875\u001b[0m \u001b[32m━━━━━━━━━━━━━━━━━━━━\u001b[0m\u001b[37m\u001b[0m \u001b[1m5s\u001b[0m 3ms/step - accuracy: 0.9298 - loss: 0.2363 - val_accuracy: 0.9427 - val_loss: 0.1885\n",
      "Epoch 46/200\n",
      "\u001b[1m1875/1875\u001b[0m \u001b[32m━━━━━━━━━━━━━━━━━━━━\u001b[0m\u001b[37m\u001b[0m \u001b[1m5s\u001b[0m 3ms/step - accuracy: 0.9313 - loss: 0.2341 - val_accuracy: 0.9436 - val_loss: 0.1865\n",
      "Epoch 47/200\n",
      "\u001b[1m1875/1875\u001b[0m \u001b[32m━━━━━━━━━━━━━━━━━━━━\u001b[0m\u001b[37m\u001b[0m \u001b[1m5s\u001b[0m 3ms/step - accuracy: 0.9323 - loss: 0.2320 - val_accuracy: 0.9430 - val_loss: 0.1851\n",
      "Epoch 48/200\n",
      "\u001b[1m1875/1875\u001b[0m \u001b[32m━━━━━━━━━━━━━━━━━━━━\u001b[0m\u001b[37m\u001b[0m \u001b[1m6s\u001b[0m 3ms/step - accuracy: 0.9333 - loss: 0.2275 - val_accuracy: 0.9445 - val_loss: 0.1833\n"
     ]
    }
   ],
   "source": [
    "# Train the model\n",
    "# r = model.fit(x_train, y_train, validation_data=(x_test, y_test), epochs=10)\n",
    "\n",
    "# r = model.fit(x_train, y_train, validation_data=(x_test, y_test), epochs=10, batch_size=64)\n",
    "\n",
    "callback = tf.keras.callbacks.EarlyStopping(monitor='val_loss',patience=5, min_delta=0.009)\n",
    "r = model.fit(x_train, y_train, validation_data=(x_test, y_test), epochs=200, callbacks=[callback])"
   ]
  },
  {
   "cell_type": "code",
   "execution_count": 17,
   "metadata": {
    "colab": {
     "base_uri": "https://localhost:8080/",
     "height": 344
    },
    "executionInfo": {
     "elapsed": 11,
     "status": "ok",
     "timestamp": 1733818543486,
     "user": {
      "displayName": "Dr. Darshan Ingle",
      "userId": "04404670917598221522"
     },
     "user_tz": -330
    },
    "id": "Da_-IQyfmOxm",
    "outputId": "2a9976c2-e905-4d3e-c290-5d9beeba902a"
   },
   "outputs": [
    {
     "data": {
      "text/html": [
       "<pre style=\"white-space:pre;overflow-x:auto;line-height:normal;font-family:Menlo,'DejaVu Sans Mono',consolas,'Courier New',monospace\"><span style=\"font-weight: bold\">Model: \"sequential\"</span>\n",
       "</pre>\n"
      ],
      "text/plain": [
       "\u001b[1mModel: \"sequential\"\u001b[0m\n"
      ]
     },
     "metadata": {},
     "output_type": "display_data"
    },
    {
     "data": {
      "text/html": [
       "<pre style=\"white-space:pre;overflow-x:auto;line-height:normal;font-family:Menlo,'DejaVu Sans Mono',consolas,'Courier New',monospace\">┏━━━━━━━━━━━━━━━━━━━━━━━━━━━━━━━━━┳━━━━━━━━━━━━━━━━━━━━━━━━┳━━━━━━━━━━━━━━━┓\n",
       "┃<span style=\"font-weight: bold\"> Layer (type)                    </span>┃<span style=\"font-weight: bold\"> Output Shape           </span>┃<span style=\"font-weight: bold\">       Param # </span>┃\n",
       "┡━━━━━━━━━━━━━━━━━━━━━━━━━━━━━━━━━╇━━━━━━━━━━━━━━━━━━━━━━━━╇━━━━━━━━━━━━━━━┩\n",
       "│ flatten (<span style=\"color: #0087ff; text-decoration-color: #0087ff\">Flatten</span>)               │ (<span style=\"color: #00d7ff; text-decoration-color: #00d7ff\">None</span>, <span style=\"color: #00af00; text-decoration-color: #00af00\">784</span>)            │             <span style=\"color: #00af00; text-decoration-color: #00af00\">0</span> │\n",
       "├─────────────────────────────────┼────────────────────────┼───────────────┤\n",
       "│ dense (<span style=\"color: #0087ff; text-decoration-color: #0087ff\">Dense</span>)                   │ (<span style=\"color: #00d7ff; text-decoration-color: #00d7ff\">None</span>, <span style=\"color: #00af00; text-decoration-color: #00af00\">128</span>)            │       <span style=\"color: #00af00; text-decoration-color: #00af00\">100,480</span> │\n",
       "├─────────────────────────────────┼────────────────────────┼───────────────┤\n",
       "│ dropout (<span style=\"color: #0087ff; text-decoration-color: #0087ff\">Dropout</span>)               │ (<span style=\"color: #00d7ff; text-decoration-color: #00d7ff\">None</span>, <span style=\"color: #00af00; text-decoration-color: #00af00\">128</span>)            │             <span style=\"color: #00af00; text-decoration-color: #00af00\">0</span> │\n",
       "├─────────────────────────────────┼────────────────────────┼───────────────┤\n",
       "│ dense_1 (<span style=\"color: #0087ff; text-decoration-color: #0087ff\">Dense</span>)                 │ (<span style=\"color: #00d7ff; text-decoration-color: #00d7ff\">None</span>, <span style=\"color: #00af00; text-decoration-color: #00af00\">256</span>)            │        <span style=\"color: #00af00; text-decoration-color: #00af00\">33,024</span> │\n",
       "├─────────────────────────────────┼────────────────────────┼───────────────┤\n",
       "│ dropout_1 (<span style=\"color: #0087ff; text-decoration-color: #0087ff\">Dropout</span>)             │ (<span style=\"color: #00d7ff; text-decoration-color: #00d7ff\">None</span>, <span style=\"color: #00af00; text-decoration-color: #00af00\">256</span>)            │             <span style=\"color: #00af00; text-decoration-color: #00af00\">0</span> │\n",
       "├─────────────────────────────────┼────────────────────────┼───────────────┤\n",
       "│ dense_2 (<span style=\"color: #0087ff; text-decoration-color: #0087ff\">Dense</span>)                 │ (<span style=\"color: #00d7ff; text-decoration-color: #00d7ff\">None</span>, <span style=\"color: #00af00; text-decoration-color: #00af00\">10</span>)             │         <span style=\"color: #00af00; text-decoration-color: #00af00\">2,570</span> │\n",
       "└─────────────────────────────────┴────────────────────────┴───────────────┘\n",
       "</pre>\n"
      ],
      "text/plain": [
       "┏━━━━━━━━━━━━━━━━━━━━━━━━━━━━━━━━━┳━━━━━━━━━━━━━━━━━━━━━━━━┳━━━━━━━━━━━━━━━┓\n",
       "┃\u001b[1m \u001b[0m\u001b[1mLayer (type)                   \u001b[0m\u001b[1m \u001b[0m┃\u001b[1m \u001b[0m\u001b[1mOutput Shape          \u001b[0m\u001b[1m \u001b[0m┃\u001b[1m \u001b[0m\u001b[1m      Param #\u001b[0m\u001b[1m \u001b[0m┃\n",
       "┡━━━━━━━━━━━━━━━━━━━━━━━━━━━━━━━━━╇━━━━━━━━━━━━━━━━━━━━━━━━╇━━━━━━━━━━━━━━━┩\n",
       "│ flatten (\u001b[38;5;33mFlatten\u001b[0m)               │ (\u001b[38;5;45mNone\u001b[0m, \u001b[38;5;34m784\u001b[0m)            │             \u001b[38;5;34m0\u001b[0m │\n",
       "├─────────────────────────────────┼────────────────────────┼───────────────┤\n",
       "│ dense (\u001b[38;5;33mDense\u001b[0m)                   │ (\u001b[38;5;45mNone\u001b[0m, \u001b[38;5;34m128\u001b[0m)            │       \u001b[38;5;34m100,480\u001b[0m │\n",
       "├─────────────────────────────────┼────────────────────────┼───────────────┤\n",
       "│ dropout (\u001b[38;5;33mDropout\u001b[0m)               │ (\u001b[38;5;45mNone\u001b[0m, \u001b[38;5;34m128\u001b[0m)            │             \u001b[38;5;34m0\u001b[0m │\n",
       "├─────────────────────────────────┼────────────────────────┼───────────────┤\n",
       "│ dense_1 (\u001b[38;5;33mDense\u001b[0m)                 │ (\u001b[38;5;45mNone\u001b[0m, \u001b[38;5;34m256\u001b[0m)            │        \u001b[38;5;34m33,024\u001b[0m │\n",
       "├─────────────────────────────────┼────────────────────────┼───────────────┤\n",
       "│ dropout_1 (\u001b[38;5;33mDropout\u001b[0m)             │ (\u001b[38;5;45mNone\u001b[0m, \u001b[38;5;34m256\u001b[0m)            │             \u001b[38;5;34m0\u001b[0m │\n",
       "├─────────────────────────────────┼────────────────────────┼───────────────┤\n",
       "│ dense_2 (\u001b[38;5;33mDense\u001b[0m)                 │ (\u001b[38;5;45mNone\u001b[0m, \u001b[38;5;34m10\u001b[0m)             │         \u001b[38;5;34m2,570\u001b[0m │\n",
       "└─────────────────────────────────┴────────────────────────┴───────────────┘\n"
      ]
     },
     "metadata": {},
     "output_type": "display_data"
    },
    {
     "data": {
      "text/html": [
       "<pre style=\"white-space:pre;overflow-x:auto;line-height:normal;font-family:Menlo,'DejaVu Sans Mono',consolas,'Courier New',monospace\"><span style=\"font-weight: bold\"> Total params: </span><span style=\"color: #00af00; text-decoration-color: #00af00\">272,150</span> (1.04 MB)\n",
       "</pre>\n"
      ],
      "text/plain": [
       "\u001b[1m Total params: \u001b[0m\u001b[38;5;34m272,150\u001b[0m (1.04 MB)\n"
      ]
     },
     "metadata": {},
     "output_type": "display_data"
    },
    {
     "data": {
      "text/html": [
       "<pre style=\"white-space:pre;overflow-x:auto;line-height:normal;font-family:Menlo,'DejaVu Sans Mono',consolas,'Courier New',monospace\"><span style=\"font-weight: bold\"> Trainable params: </span><span style=\"color: #00af00; text-decoration-color: #00af00\">136,074</span> (531.54 KB)\n",
       "</pre>\n"
      ],
      "text/plain": [
       "\u001b[1m Trainable params: \u001b[0m\u001b[38;5;34m136,074\u001b[0m (531.54 KB)\n"
      ]
     },
     "metadata": {},
     "output_type": "display_data"
    },
    {
     "data": {
      "text/html": [
       "<pre style=\"white-space:pre;overflow-x:auto;line-height:normal;font-family:Menlo,'DejaVu Sans Mono',consolas,'Courier New',monospace\"><span style=\"font-weight: bold\"> Non-trainable params: </span><span style=\"color: #00af00; text-decoration-color: #00af00\">0</span> (0.00 B)\n",
       "</pre>\n"
      ],
      "text/plain": [
       "\u001b[1m Non-trainable params: \u001b[0m\u001b[38;5;34m0\u001b[0m (0.00 B)\n"
      ]
     },
     "metadata": {},
     "output_type": "display_data"
    },
    {
     "data": {
      "text/html": [
       "<pre style=\"white-space:pre;overflow-x:auto;line-height:normal;font-family:Menlo,'DejaVu Sans Mono',consolas,'Courier New',monospace\"><span style=\"font-weight: bold\"> Optimizer params: </span><span style=\"color: #00af00; text-decoration-color: #00af00\">136,076</span> (531.55 KB)\n",
       "</pre>\n"
      ],
      "text/plain": [
       "\u001b[1m Optimizer params: \u001b[0m\u001b[38;5;34m136,076\u001b[0m (531.55 KB)\n"
      ]
     },
     "metadata": {},
     "output_type": "display_data"
    }
   ],
   "source": [
    "model.summary()"
   ]
  },
  {
   "cell_type": "code",
   "execution_count": 18,
   "metadata": {
    "colab": {
     "base_uri": "https://localhost:8080/",
     "height": 455
    },
    "executionInfo": {
     "elapsed": 549,
     "status": "ok",
     "timestamp": 1733819000046,
     "user": {
      "displayName": "Dr. Darshan Ingle",
      "userId": "04404670917598221522"
     },
     "user_tz": -330
    },
    "id": "m7ivKc94T9ar",
    "outputId": "43fee053-8c70-450f-abda-5b96bc2aa5b7"
   },
   "outputs": [
    {
     "data": {
      "image/png": "[encoded data removed]",
      "text/plain": [
       "<Figure size 640x480 with 1 Axes>"
      ]
     },
     "metadata": {},
     "output_type": "display_data"
    }
   ],
   "source": [
    "# Plot loss per iteration\n",
    "import matplotlib.pyplot as plt\n",
    "plt.plot(r.history['loss'], label='loss')\n",
    "plt.plot(r.history['val_loss'], label='val_loss')\n",
    "plt.legend()\n",
    "plt.xlabel('Epochs')\n",
    "plt.ylabel('Loss')\n",
    "plt.ylim([0,1])\n",
    "plt.show()"
   ]
  },
  {
   "cell_type": "code",
   "execution_count": 19,
   "metadata": {
    "colab": {
     "base_uri": "https://localhost:8080/",
     "height": 455
    },
    "executionInfo": {
     "elapsed": 559,
     "status": "ok",
     "timestamp": 1733819021162,
     "user": {
      "displayName": "Dr. Darshan Ingle",
      "userId": "04404670917598221522"
     },
     "user_tz": -330
    },
    "id": "G8V9ernYUCvT",
    "outputId": "d291417a-3e91-4a41-d15f-4c310c5be1a9"
   },
   "outputs": [
    {
     "data": {
      "image/png": "[encoded data removed]",
      "text/plain": [
       "<Figure size 640x480 with 1 Axes>"
      ]
     },
     "metadata": {},
     "output_type": "display_data"
    }
   ],
   "source": [
    "# Plot accuracy per iteration\n",
    "import matplotlib.pyplot as plt\n",
    "plt.plot(r.history['accuracy'], label='accuracy')\n",
    "plt.plot(r.history['val_accuracy'], label='val_accuracy')\n",
    "plt.legend()\n",
    "plt.xlabel('Epochs')\n",
    "plt.ylabel('Accuracy')\n",
    "plt.ylim([0,1])\n",
    "plt.show()"
   ]
  },
  {
   "cell_type": "code",
   "execution_count": 20,
   "metadata": {
    "colab": {
     "base_uri": "https://localhost:8080/"
    },
    "executionInfo": {
     "elapsed": 1367,
     "status": "ok",
     "timestamp": 1733817889022,
     "user": {
      "displayName": "Dr. Darshan Ingle",
      "userId": "04404670917598221522"
     },
     "user_tz": -330
    },
    "id": "71cRphmvUvY5",
    "outputId": "d0c01079-0455-4a6e-d443-b7d345ba06de"
   },
   "outputs": [
    {
     "name": "stdout",
     "output_type": "stream",
     "text": [
      "\u001b[1m313/313\u001b[0m \u001b[32m━━━━━━━━━━━━━━━━━━━━\u001b[0m\u001b[37m\u001b[0m \u001b[1m0s\u001b[0m 1ms/step\n"
     ]
    },
    {
     "data": {
      "text/plain": [
       "array([[3.5044461e-05, 4.2307664e-07, 5.8431819e-04, ..., 9.9787283e-01,\n",
       "        2.6420903e-05, 2.4975062e-04],\n",
       "       [6.0402957e-04, 1.1121941e-04, 9.7346401e-01, ..., 2.5739402e-07,\n",
       "        2.4442488e-04, 7.5700626e-08],\n",
       "       [2.4946756e-05, 9.8771697e-01, 4.0124571e-03, ..., 2.8508848e-03,\n",
       "        1.7078957e-03, 3.5084059e-04],\n",
       "       ...,\n",
       "       [4.7186501e-07, 5.8773685e-07, 2.0870943e-05, ..., 2.1531842e-04,\n",
       "        6.2236644e-04, 6.1665326e-03],\n",
       "       [1.4447611e-03, 9.6246193e-04, 1.2019707e-04, ..., 6.0243743e-05,\n",
       "        6.4039357e-02, 6.4461587e-05],\n",
       "       [3.9375522e-05, 2.7395357e-08, 1.9421571e-04, ..., 5.1143012e-08,\n",
       "        1.6351964e-06, 8.6950956e-07]], dtype=float32)"
      ]
     },
     "execution_count": 20,
     "metadata": {},
     "output_type": "execute_result"
    }
   ],
   "source": [
    "model.predict(x_test)"
   ]
  },
  {
   "cell_type": "code",
   "execution_count": 21,
   "metadata": {
    "colab": {
     "base_uri": "https://localhost:8080/"
    },
    "executionInfo": {
     "elapsed": 800,
     "status": "ok",
     "timestamp": 1733818574265,
     "user": {
      "displayName": "Dr. Darshan Ingle",
      "userId": "04404670917598221522"
     },
     "user_tz": -330
    },
    "id": "K_yebJacUYV8",
    "outputId": "62169c6c-784b-4142-8171-0da946759111"
   },
   "outputs": [
    {
     "name": "stdout",
     "output_type": "stream",
     "text": [
      "\u001b[1m313/313\u001b[0m \u001b[32m━━━━━━━━━━━━━━━━━━━━\u001b[0m\u001b[37m\u001b[0m \u001b[1m0s\u001b[0m 1ms/step\n"
     ]
    },
    {
     "data": {
      "text/plain": [
       "array([7, 2, 1, ..., 4, 5, 6], dtype=int64)"
      ]
     },
     "execution_count": 21,
     "metadata": {},
     "output_type": "execute_result"
    }
   ],
   "source": [
    "p_test = model.predict(x_test).argmax(axis=1)\n",
    "p_test"
   ]
  },
  {
   "cell_type": "code",
   "execution_count": 22,
   "metadata": {
    "colab": {
     "base_uri": "https://localhost:8080/"
    },
    "executionInfo": {
     "elapsed": 1,
     "status": "ok",
     "timestamp": 1733818574265,
     "user": {
      "displayName": "Dr. Darshan Ingle",
      "userId": "04404670917598221522"
     },
     "user_tz": -330
    },
    "id": "vtSTH-wyU8lV",
    "outputId": "466ddb79-1ae1-4741-a07e-91ae149cf1e9"
   },
   "outputs": [
    {
     "data": {
      "text/plain": [
       "array([[ 964,    0,    0,    1,    0,    3,    8,    2,    2,    0],\n",
       "       [   0, 1116,    3,    2,    1,    0,    3,    2,    8,    0],\n",
       "       [  11,    3,  956,   11,   10,    1,   11,   10,   17,    2],\n",
       "       [   0,    0,   15,  952,    0,   17,    1,   13,   10,    2],\n",
       "       [   1,    2,    5,    0,  931,    0,   11,    2,    3,   27],\n",
       "       [  10,    1,    0,   29,    6,  806,   13,    4,   15,    8],\n",
       "       [  10,    3,    1,    2,   10,    7,  922,    1,    2,    0],\n",
       "       [   1,   12,   18,    6,    5,    0,    0,  967,    1,   18],\n",
       "       [   5,    8,    4,   16,   11,   12,   11,    9,  895,    3],\n",
       "       [  11,    7,    1,   10,   26,    4,    1,    9,    4,  936]],\n",
       "      dtype=int64)"
      ]
     },
     "execution_count": 22,
     "metadata": {},
     "output_type": "execute_result"
    }
   ],
   "source": [
    "from sklearn.metrics import confusion_matrix\n",
    "cm = confusion_matrix(y_test, p_test)\n",
    "cm"
   ]
  },
  {
   "cell_type": "code",
   "execution_count": 23,
   "metadata": {
    "colab": {
     "base_uri": "https://localhost:8080/",
     "height": 541
    },
    "executionInfo": {
     "elapsed": 1338,
     "status": "ok",
     "timestamp": 1733818576219,
     "user": {
      "displayName": "Dr. Darshan Ingle",
      "userId": "04404670917598221522"
     },
     "user_tz": -330
    },
    "id": "NqCjXfhCUniB",
    "outputId": "7c59dcee-fc36-485d-e221-4eb954dc4272"
   },
   "outputs": [
    {
     "name": "stdout",
     "output_type": "stream",
     "text": [
      "\u001b[1m313/313\u001b[0m \u001b[32m━━━━━━━━━━━━━━━━━━━━\u001b[0m\u001b[37m\u001b[0m \u001b[1m0s\u001b[0m 1ms/step\n",
      "Confusion matrix, without normalization\n"
     ]
    },
    {
     "data": {
      "image/png": "[encoded data removed]",
      "text/plain": [
       "<Figure size 640x480 with 2 Axes>"
      ]
     },
     "metadata": {},
     "output_type": "display_data"
    }
   ],
   "source": [
    "# Plot confusion matrix\n",
    "# Kindly dont focus on the details of implementation of the code below\n",
    "from sklearn.metrics import confusion_matrix\n",
    "import numpy as np\n",
    "import itertools\n",
    "\n",
    "def plot_confusion_matrix(cm, classes,\n",
    "                          normalize=False,\n",
    "                          title='Confusion matrix',\n",
    "                          cmap=plt.cm.Blues):\n",
    "  \"\"\"\n",
    "  This function prints and plots the confusion matrix.\n",
    "  Normalization can be applied by setting `normalize=True`.\n",
    "  \"\"\"\n",
    "  if normalize:\n",
    "      cm = cm.astype('float') / cm.sum(axis=1)[:, np.newaxis]\n",
    "      print(\"Normalized confusion matrix\")\n",
    "  else:\n",
    "      print('Confusion matrix, without normalization')\n",
    "\n",
    "  # print(cm)\n",
    "\n",
    "  plt.imshow(cm, interpolation='nearest', cmap=cmap)\n",
    "  plt.title(title)\n",
    "  plt.colorbar()\n",
    "  tick_marks = np.arange(len(classes))\n",
    "  plt.xticks(tick_marks, classes, rotation=45)\n",
    "  plt.yticks(tick_marks, classes)\n",
    "\n",
    "  fmt = '.2f' if normalize else 'd'\n",
    "  thresh = cm.max() / 2.\n",
    "  for i, j in itertools.product(range(cm.shape[0]), range(cm.shape[1])):\n",
    "      plt.text(j, i, format(cm[i, j], fmt),\n",
    "               horizontalalignment=\"center\",\n",
    "               color=\"white\" if cm[i, j] > thresh else \"black\")\n",
    "\n",
    "  plt.tight_layout()\n",
    "  plt.ylabel('True label')\n",
    "  plt.xlabel('Predicted label')\n",
    "  plt.show()\n",
    "\n",
    "\n",
    "p_test = model.predict(x_test).argmax(axis=1)\n",
    "cm = confusion_matrix(y_test, p_test)\n",
    "plot_confusion_matrix(cm, list(range(10)))\n",
    "\n",
    "# Do these results make sense?\n",
    "# It's easy to confuse 9 <--> 4, 9 <--> 7, 2 <--> 7, etc."
   ]
  },
  {
   "cell_type": "code",
   "execution_count": 24,
   "metadata": {
    "colab": {
     "base_uri": "https://localhost:8080/"
    },
    "executionInfo": {
     "elapsed": 2,
     "status": "ok",
     "timestamp": 1733818576219,
     "user": {
      "displayName": "Dr. Darshan Ingle",
      "userId": "04404670917598221522"
     },
     "user_tz": -330
    },
    "id": "Jj99aRW0WMvG",
    "outputId": "daa05661-acaa-457d-cdb2-11757214206e"
   },
   "outputs": [
    {
     "data": {
      "text/plain": [
       "array([   8,   33,  124,  149,  211,  217,  233,  241,  247,  259,  290,\n",
       "        300,  313,  320,  321,  340,  341,  352,  362,  381,  412,  445,\n",
       "        448,  449,  478,  479,  495,  502,  507,  511,  531,  543,  551,\n",
       "        565,  569,  578,  582,  591,  610,  619,  627,  629,  659,  684,\n",
       "        691,  707,  717,  720,  740,  760,  791,  839,  844,  881,  924,\n",
       "        938,  939,  947,  950,  951,  956,  959,  965, 1003, 1012, 1014,\n",
       "       1032, 1039, 1044, 1062, 1068, 1073, 1082, 1096, 1101, 1107, 1112,\n",
       "       1114, 1119, 1181, 1191, 1192, 1194, 1198, 1204, 1224, 1226, 1228,\n",
       "       1232, 1242, 1247, 1251, 1256, 1260, 1283, 1289, 1299, 1319, 1325,\n",
       "       1326, 1328, 1337, 1378, 1393, 1410, 1433, 1440, 1444, 1466, 1467,\n",
       "       1500, 1522, 1525, 1527, 1530, 1549, 1553, 1569, 1581, 1609, 1621,\n",
       "       1634, 1640, 1671, 1678, 1681, 1696, 1709, 1717, 1722, 1751, 1754,\n",
       "       1773, 1790, 1800, 1813, 1828, 1850, 1857, 1868, 1878, 1901, 1911,\n",
       "       1917, 1938, 1940, 1941, 1952, 1970, 1973, 1984, 2016, 2024, 2035,\n",
       "       2040, 2043, 2044, 2053, 2063, 2068, 2070, 2093, 2098, 2109, 2118,\n",
       "       2129, 2130, 2135, 2182, 2185, 2186, 2189, 2224, 2266, 2272, 2293,\n",
       "       2299, 2305, 2325, 2369, 2371, 2380, 2387, 2393, 2394, 2395, 2406,\n",
       "       2422, 2425, 2433, 2462, 2488, 2526, 2548, 2556, 2559, 2573, 2574,\n",
       "       2582, 2598, 2607, 2610, 2631, 2648, 2654, 2713, 2771, 2780, 2832,\n",
       "       2863, 2866, 2896, 2906, 2907, 2921, 2925, 2927, 2945, 2953, 2995,\n",
       "       3005, 3060, 3073, 3108, 3110, 3114, 3117, 3130, 3136, 3145, 3157,\n",
       "       3189, 3206, 3240, 3269, 3284, 3316, 3329, 3330, 3333, 3405, 3468,\n",
       "       3490, 3503, 3520, 3549, 3550, 3558, 3559, 3565, 3567, 3573, 3597,\n",
       "       3598, 3629, 3681, 3702, 3716, 3718, 3726, 3732, 3751, 3757, 3767,\n",
       "       3776, 3780, 3796, 3801, 3806, 3808, 3811, 3817, 3821, 3838, 3848,\n",
       "       3853, 3855, 3862, 3869, 3876, 3893, 3902, 3906, 3926, 3941, 3943,\n",
       "       3946, 3951, 3962, 3976, 3985, 4000, 4017, 4027, 4063, 4065, 4072,\n",
       "       4075, 4078, 4093, 4131, 4140, 4152, 4154, 4163, 4176, 4199, 4201,\n",
       "       4205, 4211, 4212, 4224, 4238, 4248, 4271, 4289, 4300, 4306, 4313,\n",
       "       4317, 4344, 4355, 4356, 4369, 4374, 4380, 4425, 4433, 4435, 4449,\n",
       "       4451, 4477, 4497, 4498, 4500, 4521, 4523, 4540, 4571, 4575, 4578,\n",
       "       4601, 4615, 4639, 4690, 4731, 4735, 4740, 4751, 4761, 4785, 4807,\n",
       "       4808, 4814, 4823, 4837, 4874, 4876, 4879, 4880, 4886, 4890, 4910,\n",
       "       4915, 4939, 4943, 4950, 4956, 4966, 4990, 5009, 5065, 5067, 5068,\n",
       "       5078, 5140, 5176, 5183, 5210, 5331, 5409, 5457, 5495, 5600, 5611,\n",
       "       5617, 5620, 5634, 5642, 5678, 5714, 5734, 5735, 5749, 5835, 5842,\n",
       "       5887, 5888, 5891, 5913, 5922, 5936, 5955, 5972, 5973, 5985, 6023,\n",
       "       6035, 6037, 6042, 6043, 6059, 6065, 6071, 6081, 6091, 6157, 6166,\n",
       "       6168, 6172, 6173, 6347, 6390, 6391, 6400, 6421, 6426, 6505, 6511,\n",
       "       6555, 6560, 6568, 6571, 6597, 6598, 6603, 6624, 6632, 6641, 6645,\n",
       "       6651, 6721, 6740, 6744, 6746, 6765, 6785, 6796, 6847, 6906, 6926,\n",
       "       6981, 7121, 7130, 7216, 7220, 7338, 7432, 7434, 7451, 7498, 7539,\n",
       "       7545, 7797, 7800, 7812, 7821, 7849, 7858, 7859, 7886, 7888, 7899,\n",
       "       7917, 7921, 7945, 8020, 8062, 8072, 8081, 8091, 8094, 8095, 8183,\n",
       "       8246, 8272, 8277, 8279, 8294, 8339, 8406, 8408, 8410, 8520, 8522,\n",
       "       8639, 8863, 9009, 9010, 9015, 9016, 9019, 9024, 9036, 9045, 9280,\n",
       "       9316, 9426, 9433, 9446, 9482, 9544, 9587, 9614, 9624, 9634, 9642,\n",
       "       9643, 9662, 9664, 9679, 9698, 9700, 9716, 9719, 9729, 9744, 9745,\n",
       "       9749, 9751, 9752, 9755, 9768, 9770, 9777, 9779, 9780, 9792, 9808,\n",
       "       9811, 9839, 9856, 9858, 9867, 9888, 9890, 9892, 9893, 9905, 9925,\n",
       "       9941, 9944, 9970, 9980, 9982], dtype=int64)"
      ]
     },
     "execution_count": 24,
     "metadata": {},
     "output_type": "execute_result"
    }
   ],
   "source": [
    "# Show some misclassified examples\n",
    "misclassified_idx = np.where(p_test != y_test)[0]\n",
    "misclassified_idx"
   ]
  },
  {
   "cell_type": "code",
   "execution_count": 25,
   "metadata": {
    "colab": {
     "base_uri": "https://localhost:8080/"
    },
    "executionInfo": {
     "elapsed": 1,
     "status": "ok",
     "timestamp": 1733818576632,
     "user": {
      "displayName": "Dr. Darshan Ingle",
      "userId": "04404670917598221522"
     },
     "user_tz": -330
    },
    "id": "WyawI6peWtmp",
    "outputId": "81f0403f-33ed-4f50-f62c-5f0395849a03"
   },
   "outputs": [
    {
     "data": {
      "text/plain": [
       "555"
      ]
     },
     "execution_count": 25,
     "metadata": {},
     "output_type": "execute_result"
    }
   ],
   "source": [
    "len(misclassified_idx)"
   ]
  },
  {
   "cell_type": "code",
   "execution_count": 26,
   "metadata": {
    "colab": {
     "base_uri": "https://localhost:8080/"
    },
    "executionInfo": {
     "elapsed": 4,
     "status": "ok",
     "timestamp": 1733817891291,
     "user": {
      "displayName": "Dr. Darshan Ingle",
      "userId": "04404670917598221522"
     },
     "user_tz": -330
    },
    "id": "5OXYkn39WvDa",
    "outputId": "bbb85268-3c73-4bb7-fcbb-c56c7ab11ca2"
   },
   "outputs": [
    {
     "data": {
      "text/plain": [
       "0.0226"
      ]
     },
     "execution_count": 26,
     "metadata": {},
     "output_type": "execute_result"
    }
   ],
   "source": [
    "226/10000"
   ]
  },
  {
   "cell_type": "code",
   "execution_count": 27,
   "metadata": {
    "colab": {
     "base_uri": "https://localhost:8080/"
    },
    "executionInfo": {
     "elapsed": 3,
     "status": "ok",
     "timestamp": 1733817891291,
     "user": {
      "displayName": "Dr. Darshan Ingle",
      "userId": "04404670917598221522"
     },
     "user_tz": -330
    },
    "id": "GCiJjbjDWwwo",
    "outputId": "a7925cac-0359-4058-e80c-9bb5cca4013e"
   },
   "outputs": [
    {
     "data": {
      "text/plain": [
       "0.9774"
      ]
     },
     "execution_count": 27,
     "metadata": {},
     "output_type": "execute_result"
    }
   ],
   "source": [
    "accy = 1 - 0.0226\n",
    "accy"
   ]
  },
  {
   "cell_type": "code",
   "execution_count": 28,
   "metadata": {
    "colab": {
     "base_uri": "https://localhost:8080/",
     "height": 237
    },
    "executionInfo": {
     "elapsed": 4,
     "status": "ok",
     "timestamp": 1733817891292,
     "user": {
      "displayName": "Dr. Darshan Ingle",
      "userId": "04404670917598221522"
     },
     "user_tz": -330
    },
    "id": "5HWKZOt5W0oQ",
    "outputId": "851756fa-505f-485e-d859-57ae512900f4"
   },
   "outputs": [
    {
     "data": {
      "image/png": "[encoded data removed]",
      "text/plain": [
       "<Figure size 200x200 with 1 Axes>"
      ]
     },
     "metadata": {},
     "output_type": "display_data"
    }
   ],
   "source": [
    "i = np.random.choice(misclassified_idx)\n",
    "plt.figure(figsize=(2,2))\n",
    "plt.imshow(x_test[i], cmap='gray')\n",
    "plt.title(\"True label: %s Predicted: %s\" % (y_test[i], p_test[i]));\n",
    "plt.show()"
   ]
  },
  {
   "cell_type": "code",
   "execution_count": 29,
   "metadata": {
    "colab": {
     "base_uri": "https://localhost:8080/",
     "height": 237
    },
    "executionInfo": {
     "elapsed": 1245,
     "status": "ok",
     "timestamp": 1733817892533,
     "user": {
      "displayName": "Dr. Darshan Ingle",
      "userId": "04404670917598221522"
     },
     "user_tz": -330
    },
    "id": "6UJu57IRXBRd",
    "outputId": "54af14e3-a7f2-4a18-d09d-1024ccfbd03e"
   },
   "outputs": [
    {
     "data": {
      "image/png": "[encoded data removed]",
      "text/plain": [
       "<Figure size 200x200 with 1 Axes>"
      ]
     },
     "metadata": {},
     "output_type": "display_data"
    }
   ],
   "source": [
    "i = np.random.choice(misclassified_idx)\n",
    "plt.figure(figsize=(2,2))\n",
    "plt.imshow(x_test[i], cmap='gray')\n",
    "plt.title(\"True label: %s Predicted: %s\" % (y_test[i], p_test[i]));\n",
    "plt.show()"
   ]
  },
  {
   "cell_type": "code",
   "execution_count": 30,
   "metadata": {
    "colab": {
     "base_uri": "https://localhost:8080/",
     "height": 237
    },
    "executionInfo": {
     "elapsed": 7,
     "status": "ok",
     "timestamp": 1733817892533,
     "user": {
      "displayName": "Dr. Darshan Ingle",
      "userId": "04404670917598221522"
     },
     "user_tz": -330
    },
    "id": "o-5D-g3qXJS9",
    "outputId": "fa26a412-52d9-4e10-cb91-408090a0eba7"
   },
   "outputs": [
    {
     "data": {
      "image/png": "[encoded data removed]",
      "text/plain": [
       "<Figure size 200x200 with 1 Axes>"
      ]
     },
     "metadata": {},
     "output_type": "display_data"
    }
   ],
   "source": [
    "i = np.random.choice(misclassified_idx)\n",
    "plt.figure(figsize=(2,2))\n",
    "plt.imshow(x_test[i], cmap='gray')\n",
    "plt.title(\"True label: %s Predicted: %s\" % (y_test[i], p_test[i]));\n",
    "plt.show()"
   ]
  },
  {
   "cell_type": "code",
   "execution_count": 31,
   "metadata": {
    "colab": {
     "base_uri": "https://localhost:8080/",
     "height": 237
    },
    "executionInfo": {
     "elapsed": 6,
     "status": "ok",
     "timestamp": 1733817892533,
     "user": {
      "displayName": "Dr. Darshan Ingle",
      "userId": "04404670917598221522"
     },
     "user_tz": -330
    },
    "id": "Gp0n-VZEXNFL",
    "outputId": "ef88cb15-178e-474b-8ac7-5c1dda4ade36"
   },
   "outputs": [
    {
     "data": {
      "image/png": "[encoded data removed]",
      "text/plain": [
       "<Figure size 200x200 with 1 Axes>"
      ]
     },
     "metadata": {},
     "output_type": "display_data"
    }
   ],
   "source": [
    "i = np.random.choice(misclassified_idx)\n",
    "plt.figure(figsize=(2,2))\n",
    "plt.imshow(x_test[i], cmap='gray')\n",
    "plt.title(\"True label: %s Predicted: %s\" % (y_test[i], p_test[i]));\n",
    "plt.show()"
   ]
  },
  {
   "cell_type": "code",
   "execution_count": 32,
   "metadata": {
    "colab": {
     "base_uri": "https://localhost:8080/",
     "height": 237
    },
    "executionInfo": {
     "elapsed": 6,
     "status": "ok",
     "timestamp": 1733817892533,
     "user": {
      "displayName": "Dr. Darshan Ingle",
      "userId": "04404670917598221522"
     },
     "user_tz": -330
    },
    "id": "iJA7NxvmXPJv",
    "outputId": "9147f14c-5d57-411e-9a37-f725e0ba8829"
   },
   "outputs": [
    {
     "data": {
      "image/png": "[encoded data removed]",
      "text/plain": [
       "<Figure size 200x200 with 1 Axes>"
      ]
     },
     "metadata": {},
     "output_type": "display_data"
    }
   ],
   "source": [
    "i = np.random.choice(misclassified_idx)\n",
    "plt.figure(figsize=(2,2))\n",
    "plt.imshow(x_test[i], cmap='gray')\n",
    "plt.title(\"True label: %s Predicted: %s\" % (y_test[i], p_test[i]));\n",
    "plt.show()"
   ]
  },
  {
   "cell_type": "code",
   "execution_count": 33,
   "metadata": {
    "colab": {
     "base_uri": "https://localhost:8080/",
     "height": 237
    },
    "executionInfo": {
     "elapsed": 6,
     "status": "ok",
     "timestamp": 1733817892533,
     "user": {
      "displayName": "Dr. Darshan Ingle",
      "userId": "04404670917598221522"
     },
     "user_tz": -330
    },
    "id": "96b99B2nXVIB",
    "outputId": "0d1baf1a-0314-4efe-adb5-83fec1caa8ea"
   },
   "outputs": [
    {
     "data": {
      "image/png": "[encoded data removed]",
      "text/plain": [
       "<Figure size 200x200 with 1 Axes>"
      ]
     },
     "metadata": {},
     "output_type": "display_data"
    }
   ],
   "source": [
    "i = np.random.choice(misclassified_idx)\n",
    "plt.figure(figsize=(2,2))\n",
    "plt.imshow(x_test[i], cmap='gray')\n",
    "plt.title(\"True label: %s Predicted: %s\" % (y_test[i], p_test[i]));\n",
    "plt.show()"
   ]
  },
  {
   "cell_type": "code",
   "execution_count": 34,
   "metadata": {
    "colab": {
     "base_uri": "https://localhost:8080/",
     "height": 237
    },
    "executionInfo": {
     "elapsed": 5,
     "status": "ok",
     "timestamp": 1733817892533,
     "user": {
      "displayName": "Dr. Darshan Ingle",
      "userId": "04404670917598221522"
     },
     "user_tz": -330
    },
    "id": "_ljQAtL1XZ-P",
    "outputId": "8dc25b8d-e403-43b3-8725-dfd70bc9fda5"
   },
   "outputs": [
    {
     "data": {
      "image/png": "[encoded data removed]",
      "text/plain": [
       "<Figure size 200x200 with 1 Axes>"
      ]
     },
     "metadata": {},
     "output_type": "display_data"
    }
   ],
   "source": [
    "i = np.random.choice(misclassified_idx)\n",
    "plt.figure(figsize=(2,2))\n",
    "plt.imshow(x_test[i], cmap='gray')\n",
    "plt.title(\"True label: %s Predicted: %s\" % (y_test[i], p_test[i]));\n",
    "plt.show()"
   ]
  },
  {
   "cell_type": "code",
   "execution_count": null,
   "metadata": {
    "id": "cEtsY0gCuOEM"
   },
   "outputs": [],
   "source": []
  },
  {
   "cell_type": "markdown",
   "metadata": {
    "id": "ggALAPn5uOPH"
   },
   "source": [
    "## Tips for creating Neural Networks\n",
    "\n",
    "Deep learning can feel overwhelming with all its parameters and configurations, but understanding the core principles and following a structured approach can make it manageable. Let's break down your questions systematically while focusing on practical guidance.\n",
    "\n",
    "---\n",
    "\n",
    "### **1. How to Choose the Right Number of Hidden Layers?**\n",
    "- **Approach:**\n",
    "  - Start with **one hidden layer** for simpler problems. For example:\n",
    "    - If the task is linear (like predicting a straight-line relationship), fewer layers suffice.\n",
    "  - For more complex problems (e.g., image recognition, natural language processing), start with **2–3 hidden layers** and adjust based on performance.\n",
    "  - Use more layers if the data has hierarchical patterns (e.g., images where edges → shapes → objects).\n",
    "\n",
    "- **Guiding Tip:** Start simple and add layers if the model underfits (fails to capture patterns). Too many layers can lead to overfitting.\n",
    "\n",
    "---\n",
    "\n",
    "### **2. How to Choose the Number of Neurons in Each Hidden Layer?**\n",
    "- **Approach:**\n",
    "  - Start with the **rule of thumb:** Number of neurons ≈ \\( \\frac{\\text{number of input features + output features}}{2} \\).\n",
    "  - Experiment with **powers of 2** (e.g., 16, 32, 64) for layers and monitor performance.\n",
    "  - For deeper layers, reduce the number of neurons (e.g., 128 → 64 → 32).\n",
    "\n",
    "- **Practical Advice:**\n",
    "  - Avoid excessive neurons; it increases computation without necessarily improving performance.\n",
    "  - Use **grid search** or **random search** for fine-tuning the number of neurons.\n",
    "\n",
    "---\n",
    "\n",
    "### **3. How to Choose the Number of Neurons in the Output Layer?**\n",
    "- **Directly dependent on the problem type:**\n",
    "  - **Regression tasks:** One neuron (for continuous output, e.g., house price prediction).\n",
    "  - **Binary classification:** One neuron with a sigmoid activation.\n",
    "  - **Multi-class classification:** Number of neurons = Number of classes (e.g., 10 neurons for MNIST digits).\n",
    "\n",
    "---\n",
    "\n",
    "### **4. How to Choose Activation Functions?**\n",
    "- **Hidden Layers:**\n",
    "  - Use **ReLU (Rectified Linear Unit)**: It’s the default for most problems due to simplicity and efficiency.\n",
    "  - Use **Leaky ReLU** or **ELU** if ReLU causes dead neurons (where the output is always 0).\n",
    "  - Avoid **Sigmoid** or **Tanh** in hidden layers for deep networks as they can lead to vanishing gradients.\n",
    "\n",
    "- **Output Layer:**\n",
    "  - **Regression:** Use no activation function or linear activation.\n",
    "  - **Binary Classification:** Use **sigmoid** (outputs probabilities between 0 and 1).\n",
    "  - **Multi-class Classification:** Use **softmax** (outputs probabilities across multiple classes).\n",
    "\n",
    "- **Order to Follow:**\n",
    "  - Start with ReLU for hidden layers.\n",
    "  - Choose the output activation based on the task (regression/classification).\n",
    "\n",
    "---\n",
    "\n",
    "### **5. How to Choose the Right Loss Function?**\n",
    "- Match it to the task:\n",
    "  - **Regression:** Mean Squared Error (MSE) or Mean Absolute Error (MAE).\n",
    "  - **Binary Classification:** Binary Crossentropy.\n",
    "  - **Multi-class Classification:** Categorical Crossentropy (one-hot labels) or Sparse Categorical Crossentropy (integer labels).\n",
    "\n",
    "- **Guiding Tip:** The choice of loss function depends on the problem output (continuous or categorical).\n",
    "\n",
    "---\n",
    "\n",
    "### **6. How to Choose the Right Dropout?**\n",
    "- Dropout prevents overfitting by randomly \"dropping out\" neurons during training.\n",
    "  - Typical values: **0.2–0.5** (20–50% dropout).\n",
    "  - For large networks, use **higher dropout (e.g., 0.4–0.5)**; for smaller networks, use **lower dropout (e.g., 0.1–0.3).**\n",
    "  - Apply dropout in **hidden layers only**, not the input or output layer.\n",
    "\n",
    "---\n",
    "\n",
    "### **7. How to Choose the Right Parameter Configuration for Early Stopping?**\n",
    "- Early stopping halts training when performance stops improving to avoid overfitting.\n",
    "  - Monitor the **validation loss** or accuracy.\n",
    "  - Common patience value: **5–10 epochs** (i.e., stop if no improvement for 5–10 consecutive epochs).\n",
    "\n",
    "---\n",
    "\n",
    "### **Approach for Solving Any Business Problem with Neural Networks**\n",
    "1. **Understand the Problem:**\n",
    "   - Define the goal (classification, regression, clustering).\n",
    "   - Analyze the data (features, target variable, size).\n",
    "\n",
    "2. **Prepare Data:**\n",
    "   - Normalize or scale data (especially for numerical inputs).\n",
    "   - Handle missing data and outliers.\n",
    "\n",
    "3. **Design the Network:**\n",
    "   - Choose input features (number of neurons = number of features).\n",
    "   - Start with 1–3 hidden layers with ReLU activation.\n",
    "   - Define the output layer based on the task.\n",
    "   - Choose the activation for the output layer.\n",
    "\n",
    "4. **Compile the Model:**\n",
    "   - Select an optimizer (e.g., Adam or SGD).\n",
    "   - Define the loss function based on the task.\n",
    "   - Set metrics (e.g., accuracy for classification, MAE for regression).\n",
    "\n",
    "5. **Train and Validate:**\n",
    "   - Split the data into training, validation, and test sets.\n",
    "   - Train the model with a small batch size (e.g., 32–64).\n",
    "   - Use early stopping to prevent overfitting.\n",
    "\n",
    "6. **Evaluate and Tune:**\n",
    "   - Check performance on the test set.\n",
    "   - Adjust hidden layers, neurons, activation functions, and dropout based on results.\n",
    "\n",
    "---\n",
    "\n",
    "### **Additional Tips You Must Know**\n",
    "1. **Batch Size:** Start with 32 or 64. Larger datasets may benefit from higher batch sizes.\n",
    "2. **Epochs:** Use **10–100 epochs**, monitor validation loss, and stop early if performance saturates.\n",
    "3. **Learning Rate:** Start with a small value (e.g., 0.001) and tune if training is unstable.\n",
    "4. **Feature Engineering:** Quality inputs often matter more than complex architectures.\n",
    "\n",
    "---\n",
    "\n",
    "### Summary Workflow\n",
    "1. **Start simple:** Few layers, ReLU activation, common loss functions.\n",
    "2. **Experiment and iterate:** Adjust based on training/validation performance.\n",
    "3. **Avoid overfitting:** Use dropout, early stopping, and validation data.\n",
    "\n",
    "---\n",
    "\n"
   ]
  },
  {
   "cell_type": "markdown",
   "metadata": {
    "id": "oZ7uHRTVXhEX"
   },
   "source": [
    "# Happy Learning"
   ]
  }
 ],
 "metadata": {
  "accelerator": "GPU",
  "colab": {
   "authorship_tag": "ABX9TyNpJJDBusuLWf0M2PW/c6He",
   "gpuType": "T4",
   "provenance": []
  },
  "kernelspec": {
   "display_name": "Python 3",
   "name": "python3"
  },
  "language_info": {
   "codemirror_mode": {
    "name": "ipython",
    "version": 3
   },
   "file_extension": ".py",
   "mimetype": "text/x-python",
   "name": "python",
   "nbconvert_exporter": "python",
   "pygments_lexer": "ipython3",
   "version": "3.12.3"
  }
 },
 "nbformat": 4,
 "nbformat_minor": 0
}
